{
 "cells": [
  {
   "cell_type": "code",
   "execution_count": 1,
   "id": "73d40694-1e1a-40e2-9821-77447324f8eb",
   "metadata": {},
   "outputs": [],
   "source": [
    "import torch\n",
    "import os\n",
    "from torchvision.transforms import ToTensor\n",
    "import matplotlib.pyplot as plt\n",
    "from glob import glob\n",
    "from PIL import Image\n",
    "from torch.utils.data import Dataset, DataLoader, random_split\n",
    "import torchvision.transforms as transforms\n",
    "import torchvision\n",
    "import numpy as np\n",
    "import torch.nn as nn\n",
    "from sklearn.metrics import roc_curve, auc\n",
    "from sklearn.metrics import classification_report\n",
    "import seaborn as sns\n",
    "from sklearn.metrics import classification_report, roc_curve, auc, confusion_matrix"
   ]
  },
  {
   "cell_type": "code",
   "execution_count": 2,
   "id": "5ff1eacc-f4d0-4a40-80a0-fd422086ffe9",
   "metadata": {},
   "outputs": [],
   "source": [
    "class DatasetSign(Dataset):\n",
    "    def __init__(self,root: str, name_dataset: str, transform=None):\n",
    "        self.root = root\n",
    "        self.transform = transform\n",
    "        \n",
    "        self.dir = self.root + 2*name_dataset\n",
    "        self.data = []\n",
    "        self.labels = []\n",
    "        self._load_data()\n",
    "        \n",
    "    def _load_data(self):\n",
    "        self.folder = glob(self.dir + \"/*/\")\n",
    "        for index in self.folder:\n",
    "            index_path = os.path.join(index)\n",
    "            if os.path.isdir(index_path):\n",
    "                for img_name in os.listdir(index_path):\n",
    "                    img_path = os.path.join(index_path, img_name)\n",
    "                    if 'original' in img_name or 'G' in img_name:\n",
    "                        self.data.append(img_path)\n",
    "                        self.labels.append(1)  # 1 cho chữ ký thật\n",
    "                    elif 'forgeries' in img_name or 'F' in img_name:\n",
    "                        self.data.append(img_path)\n",
    "                        self.labels.append(0)  # 0 cho chữ ký giả\n",
    "    \n",
    "    def __len__(self):\n",
    "        return len(self.data)\n",
    "\n",
    "    def __getitem__(self, idx):\n",
    "        img_path = self.data[idx]\n",
    "        label = self.labels[idx]\n",
    "        image = Image.open(img_path).convert('L')  # Chuyển sang grayscale\n",
    "        if self.transform:\n",
    "            image = self.transform(image)\n",
    "        return image, label"
   ]
  },
  {
   "cell_type": "code",
   "execution_count": 3,
   "id": "72a05d8f-d6c2-459e-9fd8-12c11cd5fdd3",
   "metadata": {},
   "outputs": [
    {
     "data": {
      "text/plain": [
       "(2640, 8640, 5400)"
      ]
     },
     "execution_count": 3,
     "metadata": {},
     "output_type": "execute_result"
    }
   ],
   "source": [
    "# datasign = DatasetSign(root='/kaggle/input/handwritten-signature-datasets', name_dataset='/CEDAR')\n",
    "transform = transforms.Compose([\n",
    "    transforms.Resize((64, 64)),  # Thay đổi kích thước ảnh\n",
    "    transforms.ToTensor(),  # Chuyển ảnh thành tensor\n",
    "    transforms.Normalize((0.5,), (0.5,))  # Chuẩn hóa ảnh\n",
    "])\n",
    "\n",
    "dataset1 = DatasetSign(root='dataset/archive (1)', name_dataset='/CEDAR', transform=transform)\n",
    "dataset2 = DatasetSign(root='dataset/archive (1)', name_dataset='/BHSig260-Hindi', transform=transform)\n",
    "dataset3 = DatasetSign(root='dataset/archive (1)', name_dataset='/BHSig260-Bengali', transform=transform)\n",
    "len(dataset1),len(dataset2),len(dataset3)"
   ]
  },
  {
   "cell_type": "code",
   "execution_count": null,
   "id": "31c49303-65bd-4711-9d63-c78b62cd8a34",
   "metadata": {},
   "outputs": [],
   "source": []
  },
  {
   "cell_type": "code",
   "execution_count": 4,
   "id": "596a0feb-2e98-444b-81c5-9128b49c4e9b",
   "metadata": {},
   "outputs": [],
   "source": [
    "# len(train_loader), len(test_loader)"
   ]
  },
  {
   "cell_type": "code",
   "execution_count": 5,
   "id": "e8bc6628-6c2c-4983-b483-448b3dc6734a",
   "metadata": {},
   "outputs": [],
   "source": [
    "class Generator(nn.Module):\n",
    "    def __init__(self):\n",
    "        super(Generator, self).__init__()\n",
    "        self.main = nn.Sequential(\n",
    "            nn.ConvTranspose2d(100, 512, 4, 1, 0, bias=False),\n",
    "            nn.BatchNorm2d(512),\n",
    "            nn.ReLU(True),\n",
    "            nn.ConvTranspose2d(512, 256, 4, 2, 1, bias=False),\n",
    "            nn.BatchNorm2d(256),\n",
    "            nn.ReLU(True),\n",
    "            nn.ConvTranspose2d(256, 128, 4, 2, 1, bias=False),\n",
    "            nn.BatchNorm2d(128),\n",
    "            nn.ReLU(True),\n",
    "            nn.ConvTranspose2d(128, 64, 4, 2, 1, bias=False),\n",
    "            nn.BatchNorm2d(64),\n",
    "            nn.ReLU(True),\n",
    "            nn.ConvTranspose2d(64, 1, 4, 2, 1, bias=False),\n",
    "            nn.Tanh()\n",
    "        )\n",
    "\n",
    "    def forward(self, input):\n",
    "        return self.main(input)\n",
    "\n",
    "class Discriminator(nn.Module):\n",
    "    def __init__(self):\n",
    "        super(Discriminator, self).__init__()\n",
    "        self.main = nn.Sequential(\n",
    "            nn.Conv2d(1, 64, 4, 2, 1, bias=False),\n",
    "            nn.LeakyReLU(0.2, inplace=True),\n",
    "            nn.Conv2d(64, 128, 4, 2, 1, bias=False),\n",
    "            nn.BatchNorm2d(128),\n",
    "            nn.LeakyReLU(0.2, inplace=True),\n",
    "            nn.Conv2d(128, 256, 4, 2, 1, bias=False),\n",
    "            nn.BatchNorm2d(256),\n",
    "            nn.LeakyReLU(0.2, inplace=True),\n",
    "            nn.Conv2d(256, 512, 4, 2, 1, bias=False),\n",
    "            nn.BatchNorm2d(512),\n",
    "            nn.LeakyReLU(0.2, inplace=True),\n",
    "            nn.Conv2d(512, 1, 4, 1, 0, bias=False),\n",
    "            nn.Sigmoid()\n",
    "        )\n",
    "\n",
    "    def forward(self, input):\n",
    "        return self.main(input)\n",
    "\n",
    "# Khởi tạo mô hình\n",
    "\n"
   ]
  },
  {
   "cell_type": "code",
   "execution_count": 6,
   "id": "b9bce8b7-4dcc-4174-b096-aaba4c50626c",
   "metadata": {},
   "outputs": [
    {
     "name": "stdout",
     "output_type": "stream",
     "text": [
      "cuda\n"
     ]
    }
   ],
   "source": [
    "num_epochs = 10\n",
    "device = torch.device(\"cuda\" if torch.cuda.is_available() else \"cpu\")\n",
    "\n",
    "# Learning rate for optimizers\n",
    "lr = 0.0002\n",
    "\n",
    "# Beta1 hyperparameter for Adam optimizers\n",
    "beta1 = 0.5\n",
    "# num_epochs = 10\n",
    "batch_size = 32\n",
    "print(device)"
   ]
  },
  {
   "cell_type": "code",
   "execution_count": 7,
   "id": "2b3353b3-c48e-428e-9ef6-0aafe53ce7c8",
   "metadata": {},
   "outputs": [],
   "source": [
    "# Trực quan hóa các thông số metric với seaborn\n",
    "def visualize_metrics_seaborn(metrics):\n",
    "    metrics_names = list(metrics.keys())\n",
    "    metrics_values = list(metrics.values())\n",
    "\n",
    "    plt.figure(figsize=(10, 6))\n",
    "    sns.barplot(x=metrics_names, y=metrics_values, palette='viridis')\n",
    "    plt.xlabel('Metrics')\n",
    "    plt.ylabel('Values')\n",
    "    plt.title('Evaluation Metrics')\n",
    "    plt.ylim([0, 1])\n",
    "    \n",
    "    # Hiển thị giá trị trên các cột\n",
    "    for i, value in enumerate(metrics_values):\n",
    "        plt.text(i, value + 0.01, f'{value:.2f}', ha='center', va='bottom')\n",
    "\n",
    "    plt.show()"
   ]
  },
  {
   "cell_type": "code",
   "execution_count": 8,
   "id": "6b60e04a-b761-4a5c-a1c0-271809f130c8",
   "metadata": {},
   "outputs": [],
   "source": [
    "def plot_confusion_matrix(cm, class_names):\n",
    "    plt.figure(figsize=(8, 6))\n",
    "    sns.heatmap(cm, annot=True, fmt='d', cmap='Blues', xticklabels=class_names, yticklabels=class_names)\n",
    "    plt.xlabel('Prediction')\n",
    "    plt.ylabel('True Label')\n",
    "    plt.title('Confusion Matrix')\n",
    "    plt.show()"
   ]
  },
  {
   "cell_type": "code",
   "execution_count": 9,
   "id": "2918e816-181f-4614-8152-5b716d37a90d",
   "metadata": {
    "scrolled": true
   },
   "outputs": [],
   "source": [
    "\n",
    "\n",
    "def evaluate_model(discriminator, test_loader, device):\n",
    "    all_labels = []\n",
    "    all_predictions = []\n",
    "    discriminator.eval()  # Đặt mô hình ở chế độ đánh giá\n",
    "    with torch.no_grad():  # Tắt tính toán gradient cho quá trình đánh giá\n",
    "        for real_images, labels in test_loader:\n",
    "            real_images = real_images.to(device)\n",
    "            labels = labels.to(device).float()\n",
    "            \n",
    "            outputs = discriminator(real_images).view(-1)\n",
    "            all_labels.extend(labels.cpu().numpy())\n",
    "            all_predictions.extend(outputs.cpu().numpy())\n",
    "    \n",
    "    # Tính toán ROC curve\n",
    "    fpr, tpr, thresholds = roc_curve(all_labels, all_predictions)\n",
    "    roc_auc = auc(fpr, tpr)\n",
    "    \n",
    "    # Tìm ngưỡng giá trị tối ưu\n",
    "    optimal_idx = np.argmax(tpr - fpr)\n",
    "    optimal_threshold = thresholds[optimal_idx]\n",
    "    \n",
    "    # Vẽ ROC curve\n",
    "    plt.figure()\n",
    "    plt.plot(fpr, tpr, color='darkorange', lw=2, label='ROC curve (area = %0.2f)' % roc_auc)\n",
    "    plt.plot([0, 1], [0, 1], color='navy', lw=2, linestyle='--')\n",
    "    plt.scatter(fpr[optimal_idx], tpr[optimal_idx], marker='o', color='black', label='Optimal threshold = %0.2f' % optimal_threshold)\n",
    "    plt.xlim([0.0, 1.0])\n",
    "    plt.ylim([0.0, 1.05])\n",
    "    plt.xlabel('False Positive Rate')\n",
    "    plt.ylabel('True Positive Rate')\n",
    "    plt.title('Receiver Operating Characteristic (ROC) Curve')\n",
    "    plt.legend(loc=\"lower right\")\n",
    "    plt.show()\n",
    "    \n",
    "    all_predictions = [1 if x > optimal_threshold else 0 for x in all_predictions]\n",
    "\n",
    "    classification_report_result = classification_report(all_labels, all_predictions)\n",
    "    print(classification_report_result)\n",
    "    \n",
    "    # Tính toán và lưu lại classification report dưới dạng từ điển\n",
    "    classification_report_dict = classification_report(all_labels, all_predictions,zero_division=0, output_dict=True)\n",
    "    # print(classification_report_dict)\n",
    "    \n",
    "    # Nếu bạn chỉ muốn lưu các thông số chính như precision, recall, f1-score, accuracy\n",
    "    metrics = {\n",
    "        \"accuracy\": classification_report_dict[\"accuracy\"],\n",
    "        \"precision\": classification_report_dict[\"0.0\"][\"precision\"],\n",
    "        \"recall\": classification_report_dict[\"0.0\"][\"recall\"],\n",
    "        \"f1-score\": classification_report_dict[\"0.0\"][\"f1-score\"]\n",
    "    }\n",
    "    \n",
    "    # print(metrics)\n",
    "    visualize_metrics_seaborn(metrics)\n",
    "    # Tính toán và in ra ma trận nhầm lẫn\n",
    "    cm = confusion_matrix(all_labels, all_predictions)\n",
    "    plot_confusion_matrix(cm, class_names=['True 0', 'True 1'])\n",
    "\n",
    "    # Đặt mô hình trở lại chế độ huấn luyện\n",
    "    discriminator.train()\n",
    "\n",
    "    return all_labels, all_predictions, optimal_threshold, metrics\n",
    "\n",
    "# Đánh giá mô hình sau khi huấn luyện\n",
    "# all_labels, all_predictions, optimal_threshold, classification_report_dict, metrics = evaluate_model(discriminator, test_loader, device)\n"
   ]
  },
  {
   "cell_type": "code",
   "execution_count": 10,
   "id": "83251d84-e5fb-4af1-89a3-a9a62ee9f3ee",
   "metadata": {},
   "outputs": [],
   "source": [
    "def train_dcgan(generator, discriminator, train_loader, epochs, device, criterion, optimizerD, optimizerG):\n",
    "    G_losses = []\n",
    "    D_losses = []\n",
    "    for epoch in range(epochs):\n",
    "        for i, (real_images, labels) in enumerate(train_loader):\n",
    "            batch_size = real_images.size(0)\n",
    "            fake_labels = torch.zeros(batch_size).to(device)\n",
    "            real_labels = torch.ones(batch_size).to(device)\n",
    "\n",
    "            # Huấn luyện Discriminator\n",
    "            discriminator.zero_grad()\n",
    "            real_images = real_images.to(device)\n",
    "            labels = labels.to(device).float()\n",
    "            outputs = discriminator(real_images).view(-1)\n",
    "            d_loss_real = criterion(outputs, labels)\n",
    "            d_loss_real.backward()\n",
    "            # optimizerD.step()\n",
    "\n",
    "            z = torch.randn(batch_size, 100, 1, 1).to(device)\n",
    "            fake_images = generator(z)\n",
    "            outputs = discriminator(fake_images.detach()).view(-1)\n",
    "            d_loss_fake = criterion(outputs, fake_labels)\n",
    "            d_loss_fake.backward()\n",
    "            d_loss = d_loss_real + d_loss_fake\n",
    "            optimizerD.step()\n",
    "\n",
    "            generator.zero_grad()\n",
    "            output = discriminator(fake_images).view(-1)\n",
    "            g_loss = criterion(output, real_labels)\n",
    "            g_loss.backward()\n",
    "            optimizerG.step()\n",
    "            G_losses.append(g_loss.item())\n",
    "            D_losses.append(d_loss.item())\n",
    "\n",
    "            print(f\"Epoch [{epoch+1}/{epochs}] Batch {i+1}/{len(train_loader)} Loss D: {d_loss.item()} Loss G: {g_loss.item()}\")\n",
    "\n",
    "    return generator, discriminator, G_losses, D_losses\n",
    "\n",
    "\n",
    "    "
   ]
  },
  {
   "cell_type": "code",
   "execution_count": null,
   "id": "5e10b0b9-f956-48b0-85d0-8de66bd1d233",
   "metadata": {},
   "outputs": [
    {
     "name": "stdout",
     "output_type": "stream",
     "text": [
      "Training on CEDAR\n"
     ]
    }
   ],
   "source": [
    "datasets = [('CEDAR', dataset1), ('BHSig260-Hindi', dataset2), ('BHSig260-Bengali', dataset3)]\n",
    "# Khởi tạo các danh sách để lưu kết quả\n",
    "generators = []\n",
    "discriminators = []\n",
    "metrics = []\n",
    "classification_reports = []\n",
    "\n",
    "for dataset_name, dataset in datasets:\n",
    "    print(f'Training on {dataset_name}')\n",
    "    \n",
    "    # Khởi tạo lại mô hình cho từng bộ dữ liệu\n",
    "    generator = Generator().to(device)\n",
    "    discriminator = Discriminator().to(device)\n",
    "    \n",
    "    # Định nghĩa loss function và optimizer\n",
    "    criterion = nn.BCELoss()\n",
    "    optimizerD = torch.optim.Adam(discriminator.parameters(), lr=lr, betas=(beta1, 0.999))\n",
    "    optimizerG = torch.optim.Adam(generator.parameters(), lr=lr, betas=(beta1, 0.999))\n",
    "    \n",
    "    # Chia bộ dữ liệu thành train và test\n",
    "    train_size = int(0.8 * len(dataset))\n",
    "    test_size = len(dataset) - train_size\n",
    "    train_dataset, test_dataset = random_split(dataset, [train_size, test_size])\n",
    "    \n",
    "    train_loader = DataLoader(train_dataset, batch_size=64, shuffle=True)\n",
    "    test_loader = DataLoader(test_dataset, batch_size=64, shuffle=False)\n",
    "    \n",
    "    # Huấn luyện mô hình\n",
    "    generator, discriminator = train_dcgan(generator, discriminator, train_loader, num_epochs, device, criterion, optimizerD, optimizerG)\n",
    "    \n",
    "    # Đánh giá mô hình\n",
    "    labels, predictions, optimal_threshold, metric = evaluate_model(discriminator, test_loader, device)\n",
    "    \n",
    "    # Lưu kết quả\n",
    "    generators.append(generator)\n",
    "    discriminators.append(discriminator)\n",
    "    metrics.append((dataset_name, metric))\n",
    "    classification_reports.append((dataset_name, labels, predictions, optimal_threshold))\n",
    "\n",
    "# In ra kết quả\n",
    "for dataset_name, metric in metrics:\n",
    "    print(f'Results for {dataset_name}:')\n",
    "    print(metric)"
   ]
  },
  {
   "cell_type": "code",
   "execution_count": 12,
   "id": "baf1bfe4-8824-45a0-b056-e20bc654302b",
   "metadata": {},
   "outputs": [
    {
     "name": "stdout",
     "output_type": "stream",
     "text": [
      "Results for CEDAR:\n"
     ]
    },
    {
     "name": "stderr",
     "output_type": "stream",
     "text": [
      "C:\\Users\\TanLoc\\AppData\\Local\\Temp\\ipykernel_11236\\337143034.py:7: FutureWarning: \n",
      "\n",
      "Passing `palette` without assigning `hue` is deprecated and will be removed in v0.14.0. Assign the `x` variable to `hue` and set `legend=False` for the same effect.\n",
      "\n",
      "  sns.barplot(x=metrics_names, y=metrics_values, palette='viridis')\n"
     ]
    },
    {
     "data": {
      "image/png": "[encoded data removed]",
      "text/plain": [
       "<Figure size 1000x600 with 1 Axes>"
      ]
     },
     "metadata": {},
     "output_type": "display_data"
    },
    {
     "name": "stdout",
     "output_type": "stream",
     "text": [
      "None\n",
      "Results for BHSig260-Hindi:\n"
     ]
    },
    {
     "name": "stderr",
     "output_type": "stream",
     "text": [
      "C:\\Users\\TanLoc\\AppData\\Local\\Temp\\ipykernel_11236\\337143034.py:7: FutureWarning: \n",
      "\n",
      "Passing `palette` without assigning `hue` is deprecated and will be removed in v0.14.0. Assign the `x` variable to `hue` and set `legend=False` for the same effect.\n",
      "\n",
      "  sns.barplot(x=metrics_names, y=metrics_values, palette='viridis')\n"
     ]
    },
    {
     "data": {
      "image/png": "[encoded data removed]",
      "text/plain": [
       "<Figure size 1000x600 with 1 Axes>"
      ]
     },
     "metadata": {},
     "output_type": "display_data"
    },
    {
     "name": "stdout",
     "output_type": "stream",
     "text": [
      "None\n",
      "Results for BHSig260-Bengali:\n"
     ]
    },
    {
     "name": "stderr",
     "output_type": "stream",
     "text": [
      "C:\\Users\\TanLoc\\AppData\\Local\\Temp\\ipykernel_11236\\337143034.py:7: FutureWarning: \n",
      "\n",
      "Passing `palette` without assigning `hue` is deprecated and will be removed in v0.14.0. Assign the `x` variable to `hue` and set `legend=False` for the same effect.\n",
      "\n",
      "  sns.barplot(x=metrics_names, y=metrics_values, palette='viridis')\n"
     ]
    },
    {
     "data": {
      "image/png": "[encoded data removed]",
      "text/plain": [
       "<Figure size 1000x600 with 1 Axes>"
      ]
     },
     "metadata": {},
     "output_type": "display_data"
    },
    {
     "name": "stdout",
     "output_type": "stream",
     "text": [
      "None\n"
     ]
    }
   ],
   "source": [
    "for dataset_name, metric in metrics:\n",
    "    print(f'Results for {dataset_name}:')\n",
    "    print(visualize_metrics_seaborn(metric))"
   ]
  },
  {
   "cell_type": "code",
   "execution_count": null,
   "id": "396251fc-08fd-4526-b060-742d62e792f3",
   "metadata": {},
   "outputs": [],
   "source": []
  }
 ],
 "metadata": {
  "kernelspec": {
   "display_name": "mykernel",
   "language": "python",
   "name": "mykernel"
  },
  "language_info": {
   "codemirror_mode": {
    "name": "ipython",
    "version": 3
   },
   "file_extension": ".py",
   "mimetype": "text/x-python",
   "name": "python",
   "nbconvert_exporter": "python",
   "pygments_lexer": "ipython3",
   "version": "3.12.3"
  }
 },
 "nbformat": 4,
 "nbformat_minor": 5
}
